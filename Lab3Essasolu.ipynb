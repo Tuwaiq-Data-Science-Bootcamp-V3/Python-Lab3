{
 "cells": [
  {
   "cell_type": "code",
   "execution_count": null,
   "id": "bb486775",
   "metadata": {},
   "outputs": [],
   "source": [
    "x = range(45, 210)\n",
    "for i in x:\n",
    "    if i == 100:\n",
    "        continue\n",
    "    elif i ==205:\n",
    "        break\n",
    "    print(i)\n",
    "    #################################################\n",
    "    \n",
    "while (True):\n",
    "    u= int(input(\"what is the product of 7 * 24\"))\n",
    "    if( u == 168):\n",
    "        print(\"You answered this Question correctly\")\n",
    "    else:\n",
    "        print(\"Your Answer is wrong try again\")\n",
    "        \n",
    "    \n",
    "\n"
   ]
  },
  {
   "cell_type": "code",
   "execution_count": null,
   "id": "bc2f0b55",
   "metadata": {},
   "outputs": [],
   "source": []
  },
  {
   "cell_type": "code",
   "execution_count": null,
   "id": "a54ae19a",
   "metadata": {},
   "outputs": [],
   "source": []
  },
  {
   "cell_type": "code",
   "execution_count": null,
   "id": "55916476",
   "metadata": {},
   "outputs": [],
   "source": []
  },
  {
   "cell_type": "code",
   "execution_count": null,
   "id": "8277addb",
   "metadata": {},
   "outputs": [],
   "source": []
  },
  {
   "cell_type": "code",
   "execution_count": null,
   "id": "36656f75",
   "metadata": {},
   "outputs": [],
   "source": []
  },
  {
   "cell_type": "code",
   "execution_count": null,
   "id": "70abb8ec",
   "metadata": {},
   "outputs": [],
   "source": []
  },
  {
   "cell_type": "code",
   "execution_count": null,
   "id": "467b8e61",
   "metadata": {},
   "outputs": [],
   "source": []
  }
 ],
 "metadata": {
  "kernelspec": {
   "display_name": "Python 3 (ipykernel)",
   "language": "python",
   "name": "python3"
  },
  "language_info": {
   "codemirror_mode": {
    "name": "ipython",
    "version": 3
   },
   "file_extension": ".py",
   "mimetype": "text/x-python",
   "name": "python",
   "nbconvert_exporter": "python",
   "pygments_lexer": "ipython3",
   "version": "3.9.13"
  }
 },
 "nbformat": 4,
 "nbformat_minor": 5
}
