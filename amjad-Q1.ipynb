{
 "cells": [
  {
   "cell_type": "code",
   "execution_count": null,
   "id": "a75db794",
   "metadata": {
    "scrolled": true
   },
   "outputs": [],
   "source": [
    "val = int(input(\"what is the product of 7 * 24\"))\n",
    "\n",
    "while val != 168 :\n",
    "    print(\"Your Answer is wrong try again..\")\n",
    "\n",
    "    if val == 168 :   \n",
    "       break\n",
    "print(\"You answered this Question correctly\")"
   ]
  },
  {
   "cell_type": "code",
   "execution_count": null,
   "id": "aafb5c57",
   "metadata": {},
   "outputs": [],
   "source": []
  },
  {
   "cell_type": "code",
   "execution_count": null,
   "id": "4e3e0c51",
   "metadata": {},
   "outputs": [],
   "source": []
  },
  {
   "cell_type": "code",
   "execution_count": null,
   "id": "fa313695",
   "metadata": {},
   "outputs": [],
   "source": []
  }
 ],
 "metadata": {
  "kernelspec": {
   "display_name": "Python 3 (ipykernel)",
   "language": "python",
   "name": "python3"
  },
  "language_info": {
   "codemirror_mode": {
    "name": "ipython",
    "version": 3
   },
   "file_extension": ".py",
   "mimetype": "text/x-python",
   "name": "python",
   "nbconvert_exporter": "python",
   "pygments_lexer": "ipython3",
   "version": "3.10.9"
  }
 },
 "nbformat": 4,
 "nbformat_minor": 5
}
